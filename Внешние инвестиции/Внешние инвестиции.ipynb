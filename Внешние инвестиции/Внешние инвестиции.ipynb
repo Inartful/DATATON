{
 "cells": [
  {
   "cell_type": "code",
   "execution_count": 1,
   "metadata": {},
   "outputs": [
    {
     "data": {
      "text/html": [
       "<div>\n",
       "<style scoped>\n",
       "    .dataframe tbody tr th:only-of-type {\n",
       "        vertical-align: middle;\n",
       "    }\n",
       "\n",
       "    .dataframe tbody tr th {\n",
       "        vertical-align: top;\n",
       "    }\n",
       "\n",
       "    .dataframe thead th {\n",
       "        text-align: right;\n",
       "    }\n",
       "</style>\n",
       "<table border=\"1\" class=\"dataframe\">\n",
       "  <thead>\n",
       "    <tr style=\"text-align: right;\">\n",
       "      <th></th>\n",
       "      <th>Регион</th>\n",
       "      <th>2010</th>\n",
       "      <th>2011</th>\n",
       "      <th>2012</th>\n",
       "      <th>2013</th>\n",
       "      <th>2014</th>\n",
       "      <th>2015</th>\n",
       "      <th>2016</th>\n",
       "    </tr>\n",
       "  </thead>\n",
       "  <tbody>\n",
       "    <tr>\n",
       "      <th>1</th>\n",
       "      <td>Акмолинская Область</td>\n",
       "      <td>7.845935e+09</td>\n",
       "      <td>1.144912e+10</td>\n",
       "      <td>1.462159e+10</td>\n",
       "      <td>7.409557e+09</td>\n",
       "      <td>8.307933e+09</td>\n",
       "      <td>1.512845e+10</td>\n",
       "      <td>1.013471e+10</td>\n",
       "    </tr>\n",
       "    <tr>\n",
       "      <th>21</th>\n",
       "      <td>Актюбинская Область</td>\n",
       "      <td>1.570590e+11</td>\n",
       "      <td>1.688863e+11</td>\n",
       "      <td>1.857698e+11</td>\n",
       "      <td>1.665586e+11</td>\n",
       "      <td>1.865363e+11</td>\n",
       "      <td>9.733872e+10</td>\n",
       "      <td>8.196042e+10</td>\n",
       "    </tr>\n",
       "    <tr>\n",
       "      <th>35</th>\n",
       "      <td>Алматинская Область</td>\n",
       "      <td>4.471757e+10</td>\n",
       "      <td>6.069568e+10</td>\n",
       "      <td>3.751463e+10</td>\n",
       "      <td>1.310764e+11</td>\n",
       "      <td>9.536154e+10</td>\n",
       "      <td>7.037190e+10</td>\n",
       "      <td>5.092667e+10</td>\n",
       "    </tr>\n",
       "    <tr>\n",
       "      <th>45</th>\n",
       "      <td>Атырауская Область</td>\n",
       "      <td>8.788467e+11</td>\n",
       "      <td>8.301390e+11</td>\n",
       "      <td>6.452217e+11</td>\n",
       "      <td>6.057182e+11</td>\n",
       "      <td>5.736091e+11</td>\n",
       "      <td>8.507872e+11</td>\n",
       "      <td>6.542255e+11</td>\n",
       "    </tr>\n",
       "    <tr>\n",
       "      <th>54</th>\n",
       "      <td>Западно-Казахстанская Область</td>\n",
       "      <td>1.586870e+11</td>\n",
       "      <td>9.658863e+10</td>\n",
       "      <td>8.470793e+10</td>\n",
       "      <td>9.810553e+10</td>\n",
       "      <td>1.394560e+11</td>\n",
       "      <td>2.265767e+11</td>\n",
       "      <td>3.096541e+11</td>\n",
       "    </tr>\n",
       "    <tr>\n",
       "      <th>66</th>\n",
       "      <td>Жамбылская Область</td>\n",
       "      <td>5.640098e+10</td>\n",
       "      <td>1.354453e+10</td>\n",
       "      <td>1.751739e+10</td>\n",
       "      <td>1.317052e+11</td>\n",
       "      <td>7.500975e+10</td>\n",
       "      <td>6.574756e+10</td>\n",
       "      <td>7.350924e+10</td>\n",
       "    </tr>\n",
       "    <tr>\n",
       "      <th>78</th>\n",
       "      <td>Карагандинская Область</td>\n",
       "      <td>9.843627e+10</td>\n",
       "      <td>1.105396e+11</td>\n",
       "      <td>1.421087e+11</td>\n",
       "      <td>1.357188e+11</td>\n",
       "      <td>1.413181e+11</td>\n",
       "      <td>1.170577e+11</td>\n",
       "      <td>1.125843e+11</td>\n",
       "    </tr>\n",
       "    <tr>\n",
       "      <th>92</th>\n",
       "      <td>Костанайская Область</td>\n",
       "      <td>9.190222e+09</td>\n",
       "      <td>9.483622e+09</td>\n",
       "      <td>1.292481e+10</td>\n",
       "      <td>8.988514e+09</td>\n",
       "      <td>9.270286e+09</td>\n",
       "      <td>1.004076e+10</td>\n",
       "      <td>1.368682e+10</td>\n",
       "    </tr>\n",
       "    <tr>\n",
       "      <th>112</th>\n",
       "      <td>Кызылординская Область</td>\n",
       "      <td>8.440002e+10</td>\n",
       "      <td>7.282540e+10</td>\n",
       "      <td>9.106632e+10</td>\n",
       "      <td>1.893260e+11</td>\n",
       "      <td>9.174285e+10</td>\n",
       "      <td>4.687402e+10</td>\n",
       "      <td>3.570306e+10</td>\n",
       "    </tr>\n",
       "    <tr>\n",
       "      <th>121</th>\n",
       "      <td>Мангистауская Область</td>\n",
       "      <td>1.299218e+11</td>\n",
       "      <td>9.921707e+10</td>\n",
       "      <td>1.260722e+11</td>\n",
       "      <td>1.326511e+11</td>\n",
       "      <td>1.673043e+11</td>\n",
       "      <td>1.376762e+11</td>\n",
       "      <td>7.357494e+10</td>\n",
       "    </tr>\n",
       "    <tr>\n",
       "      <th>145</th>\n",
       "      <td>Павлодарская Область</td>\n",
       "      <td>4.907566e+10</td>\n",
       "      <td>6.990730e+10</td>\n",
       "      <td>9.234700e+10</td>\n",
       "      <td>9.710910e+10</td>\n",
       "      <td>1.204336e+11</td>\n",
       "      <td>1.891168e+11</td>\n",
       "      <td>1.764831e+11</td>\n",
       "    </tr>\n",
       "    <tr>\n",
       "      <th>159</th>\n",
       "      <td>Северо-Казахстанская Область</td>\n",
       "      <td>9.058740e+08</td>\n",
       "      <td>2.001738e+09</td>\n",
       "      <td>1.478917e+09</td>\n",
       "      <td>1.766075e+09</td>\n",
       "      <td>4.933445e+09</td>\n",
       "      <td>6.744431e+09</td>\n",
       "      <td>9.405149e+09</td>\n",
       "    </tr>\n",
       "    <tr>\n",
       "      <th>174</th>\n",
       "      <td>Восточно-Казахстанская Область</td>\n",
       "      <td>1.795381e+10</td>\n",
       "      <td>3.059278e+10</td>\n",
       "      <td>3.876990e+10</td>\n",
       "      <td>5.753167e+10</td>\n",
       "      <td>1.171287e+11</td>\n",
       "      <td>2.031092e+11</td>\n",
       "      <td>2.337813e+11</td>\n",
       "    </tr>\n",
       "    <tr>\n",
       "      <th>185</th>\n",
       "      <td>Г.Астана</td>\n",
       "      <td>1.258985e+10</td>\n",
       "      <td>1.936436e+10</td>\n",
       "      <td>3.563594e+10</td>\n",
       "      <td>1.455899e+10</td>\n",
       "      <td>2.554898e+10</td>\n",
       "      <td>5.279427e+10</td>\n",
       "      <td>5.783137e+10</td>\n",
       "    </tr>\n",
       "    <tr>\n",
       "      <th>189</th>\n",
       "      <td>Г.Алматы</td>\n",
       "      <td>6.503094e+10</td>\n",
       "      <td>6.067344e+10</td>\n",
       "      <td>8.155537e+10</td>\n",
       "      <td>1.027849e+11</td>\n",
       "      <td>7.228645e+10</td>\n",
       "      <td>5.633867e+10</td>\n",
       "      <td>7.799726e+10</td>\n",
       "    </tr>\n",
       "  </tbody>\n",
       "</table>\n",
       "</div>"
      ],
      "text/plain": [
       "                             Регион          2010          2011          2012  \\\n",
       "1               Акмолинская Область  7.845935e+09  1.144912e+10  1.462159e+10   \n",
       "21              Актюбинская Область  1.570590e+11  1.688863e+11  1.857698e+11   \n",
       "35              Алматинская Область  4.471757e+10  6.069568e+10  3.751463e+10   \n",
       "45               Атырауская Область  8.788467e+11  8.301390e+11  6.452217e+11   \n",
       "54    Западно-Казахстанская Область  1.586870e+11  9.658863e+10  8.470793e+10   \n",
       "66               Жамбылская Область  5.640098e+10  1.354453e+10  1.751739e+10   \n",
       "78           Карагандинская Область  9.843627e+10  1.105396e+11  1.421087e+11   \n",
       "92             Костанайская Область  9.190222e+09  9.483622e+09  1.292481e+10   \n",
       "112          Кызылординская Область  8.440002e+10  7.282540e+10  9.106632e+10   \n",
       "121           Мангистауская Область  1.299218e+11  9.921707e+10  1.260722e+11   \n",
       "145            Павлодарская Область  4.907566e+10  6.990730e+10  9.234700e+10   \n",
       "159    Северо-Казахстанская Область  9.058740e+08  2.001738e+09  1.478917e+09   \n",
       "174  Восточно-Казахстанская Область  1.795381e+10  3.059278e+10  3.876990e+10   \n",
       "185                        Г.Астана  1.258985e+10  1.936436e+10  3.563594e+10   \n",
       "189                        Г.Алматы  6.503094e+10  6.067344e+10  8.155537e+10   \n",
       "\n",
       "             2013          2014          2015          2016  \n",
       "1    7.409557e+09  8.307933e+09  1.512845e+10  1.013471e+10  \n",
       "21   1.665586e+11  1.865363e+11  9.733872e+10  8.196042e+10  \n",
       "35   1.310764e+11  9.536154e+10  7.037190e+10  5.092667e+10  \n",
       "45   6.057182e+11  5.736091e+11  8.507872e+11  6.542255e+11  \n",
       "54   9.810553e+10  1.394560e+11  2.265767e+11  3.096541e+11  \n",
       "66   1.317052e+11  7.500975e+10  6.574756e+10  7.350924e+10  \n",
       "78   1.357188e+11  1.413181e+11  1.170577e+11  1.125843e+11  \n",
       "92   8.988514e+09  9.270286e+09  1.004076e+10  1.368682e+10  \n",
       "112  1.893260e+11  9.174285e+10  4.687402e+10  3.570306e+10  \n",
       "121  1.326511e+11  1.673043e+11  1.376762e+11  7.357494e+10  \n",
       "145  9.710910e+10  1.204336e+11  1.891168e+11  1.764831e+11  \n",
       "159  1.766075e+09  4.933445e+09  6.744431e+09  9.405149e+09  \n",
       "174  5.753167e+10  1.171287e+11  2.031092e+11  2.337813e+11  \n",
       "185  1.455899e+10  2.554898e+10  5.279427e+10  5.783137e+10  \n",
       "189  1.027849e+11  7.228645e+10  5.633867e+10  7.799726e+10  "
      ]
     },
     "execution_count": 1,
     "metadata": {},
     "output_type": "execute_result"
    }
   ],
   "source": [
    "import pandas as pd\n",
    "import plotly.express as px\n",
    "\n",
    "file_path = 'Внешние инвестиции.xlsx'\n",
    "excel_data = pd.ExcelFile(file_path)\n",
    "df =  pd.read_excel(file_path, sheet_name=excel_data.sheet_names[0], skiprows=10)\n",
    "df['Регион'] = df['Регион'].str.strip().str.title()\n",
    "\n",
    "# Список областей и городов, которые нужно выделить\n",
    "regions_of_interest = [\n",
    "    \"Акмолинская Область\",\n",
    "    \"Актюбинская Область\",\n",
    "    \"Алматинская Область\",\n",
    "    \"Атырауская Область\",\n",
    "    \"Восточно-Казахстанская Область\",\n",
    "    \"Жамбылская Область\",\n",
    "    \"Западно-Казахстанская Область\",\n",
    "    \"Карагандинская Область\",\n",
    "    \"Костанайская Область\",\n",
    "    \"Кызылординская Область\",\n",
    "    \"Мангистауская Область\",\n",
    "    \"Павлодарская Область\",\n",
    "    \"Северо-Казахстанская Область\",\n",
    "    \"Туркестанская Область\",\n",
    "    \"Г.Астана\",\n",
    "    \"Г.Алматы\",\n",
    "    \"Г.Шымкент\"\n",
    "]\n",
    "\n",
    "df = df[df['Регион'].isin(regions_of_interest)]\n",
    "df.columns = df.columns.str.replace(' год', '', regex=False)\n",
    "df = df.fillna('0')\n",
    "\n",
    "for date in df.columns[1:]:\n",
    "    df[date] = df[date].str.replace('.', '')\n",
    "    df[date] = df[date].str.replace(',', '.').astype(float)\n",
    "    df[date] = df[date] * 1000\n",
    "df"
   ]
  },
  {
   "cell_type": "code",
   "execution_count": 4,
   "metadata": {},
   "outputs": [
    {
     "data": {
      "application/vnd.plotly.v1+json": {
       "config": {
        "plotlyServerURL": "https://plot.ly"
       },
       "data": [
        {
         "hovertemplate": "Регион=Акмолинская Область<br>Год=%{x}<br>Значение=%{y}<extra></extra>",
         "legendgroup": "Акмолинская Область",
         "line": {
          "color": "#636efa",
          "dash": "solid"
         },
         "marker": {
          "symbol": "circle"
         },
         "mode": "lines+markers",
         "name": "Акмолинская Область",
         "orientation": "v",
         "showlegend": true,
         "type": "scatter",
         "x": [
          2010,
          2011,
          2012,
          2013,
          2014,
          2015,
          2016
         ],
         "xaxis": "x",
         "y": [
          7845935000,
          11449116000,
          14621590000,
          7409557000,
          8307933000,
          15128451000,
          10134711000
         ],
         "yaxis": "y"
        },
        {
         "hovertemplate": "Регион=Актюбинская Область<br>Год=%{x}<br>Значение=%{y}<extra></extra>",
         "legendgroup": "Актюбинская Область",
         "line": {
          "color": "#EF553B",
          "dash": "solid"
         },
         "marker": {
          "symbol": "circle"
         },
         "mode": "lines+markers",
         "name": "Актюбинская Область",
         "orientation": "v",
         "showlegend": true,
         "type": "scatter",
         "x": [
          2010,
          2011,
          2012,
          2013,
          2014,
          2015,
          2016
         ],
         "xaxis": "x",
         "y": [
          157058968000,
          168886310000,
          185769804000,
          166558583000,
          186536305000,
          97338724000,
          81960419000
         ],
         "yaxis": "y"
        },
        {
         "hovertemplate": "Регион=Алматинская Область<br>Год=%{x}<br>Значение=%{y}<extra></extra>",
         "legendgroup": "Алматинская Область",
         "line": {
          "color": "#00cc96",
          "dash": "solid"
         },
         "marker": {
          "symbol": "circle"
         },
         "mode": "lines+markers",
         "name": "Алматинская Область",
         "orientation": "v",
         "showlegend": true,
         "type": "scatter",
         "x": [
          2010,
          2011,
          2012,
          2013,
          2014,
          2015,
          2016
         ],
         "xaxis": "x",
         "y": [
          44717570000,
          60695676000,
          37514627000,
          131076442000,
          95361537000,
          70371900000,
          50926672000
         ],
         "yaxis": "y"
        },
        {
         "hovertemplate": "Регион=Атырауская Область<br>Год=%{x}<br>Значение=%{y}<extra></extra>",
         "legendgroup": "Атырауская Область",
         "line": {
          "color": "#ab63fa",
          "dash": "solid"
         },
         "marker": {
          "symbol": "circle"
         },
         "mode": "lines+markers",
         "name": "Атырауская Область",
         "orientation": "v",
         "showlegend": true,
         "type": "scatter",
         "x": [
          2010,
          2011,
          2012,
          2013,
          2014,
          2015,
          2016
         ],
         "xaxis": "x",
         "y": [
          878846723000,
          830138952000,
          645221674000,
          605718215000,
          573609089000,
          850787189000,
          654225528000
         ],
         "yaxis": "y"
        },
        {
         "hovertemplate": "Регион=Западно-Казахстанская Область<br>Год=%{x}<br>Значение=%{y}<extra></extra>",
         "legendgroup": "Западно-Казахстанская Область",
         "line": {
          "color": "#FFA15A",
          "dash": "solid"
         },
         "marker": {
          "symbol": "circle"
         },
         "mode": "lines+markers",
         "name": "Западно-Казахстанская Область",
         "orientation": "v",
         "showlegend": true,
         "type": "scatter",
         "x": [
          2010,
          2011,
          2012,
          2013,
          2014,
          2015,
          2016
         ],
         "xaxis": "x",
         "y": [
          158687021000,
          96588633000,
          84707931000,
          98105529000,
          139455970000,
          226576706000,
          309654125000
         ],
         "yaxis": "y"
        },
        {
         "hovertemplate": "Регион=Жамбылская Область<br>Год=%{x}<br>Значение=%{y}<extra></extra>",
         "legendgroup": "Жамбылская Область",
         "line": {
          "color": "#19d3f3",
          "dash": "solid"
         },
         "marker": {
          "symbol": "circle"
         },
         "mode": "lines+markers",
         "name": "Жамбылская Область",
         "orientation": "v",
         "showlegend": true,
         "type": "scatter",
         "x": [
          2010,
          2011,
          2012,
          2013,
          2014,
          2015,
          2016
         ],
         "xaxis": "x",
         "y": [
          56400976000,
          13544531000,
          17517387000,
          131705201000,
          75009754000,
          65747555000,
          73509235000
         ],
         "yaxis": "y"
        },
        {
         "hovertemplate": "Регион=Карагандинская Область<br>Год=%{x}<br>Значение=%{y}<extra></extra>",
         "legendgroup": "Карагандинская Область",
         "line": {
          "color": "#FF6692",
          "dash": "solid"
         },
         "marker": {
          "symbol": "circle"
         },
         "mode": "lines+markers",
         "name": "Карагандинская Область",
         "orientation": "v",
         "showlegend": true,
         "type": "scatter",
         "x": [
          2010,
          2011,
          2012,
          2013,
          2014,
          2015,
          2016
         ],
         "xaxis": "x",
         "y": [
          98436267000,
          110539562000,
          142108723000,
          135718797000,
          141318138000,
          117057674000,
          112584267000
         ],
         "yaxis": "y"
        },
        {
         "hovertemplate": "Регион=Костанайская Область<br>Год=%{x}<br>Значение=%{y}<extra></extra>",
         "legendgroup": "Костанайская Область",
         "line": {
          "color": "#B6E880",
          "dash": "solid"
         },
         "marker": {
          "symbol": "circle"
         },
         "mode": "lines+markers",
         "name": "Костанайская Область",
         "orientation": "v",
         "showlegend": true,
         "type": "scatter",
         "x": [
          2010,
          2011,
          2012,
          2013,
          2014,
          2015,
          2016
         ],
         "xaxis": "x",
         "y": [
          9190222000,
          9483622000,
          12924814000,
          8988514000,
          9270286000,
          10040762000,
          13686818000
         ],
         "yaxis": "y"
        },
        {
         "hovertemplate": "Регион=Кызылординская Область<br>Год=%{x}<br>Значение=%{y}<extra></extra>",
         "legendgroup": "Кызылординская Область",
         "line": {
          "color": "#FF97FF",
          "dash": "solid"
         },
         "marker": {
          "symbol": "circle"
         },
         "mode": "lines+markers",
         "name": "Кызылординская Область",
         "orientation": "v",
         "showlegend": true,
         "type": "scatter",
         "x": [
          2010,
          2011,
          2012,
          2013,
          2014,
          2015,
          2016
         ],
         "xaxis": "x",
         "y": [
          84400017000,
          72825401000,
          91066319000,
          189325973000,
          91742847000,
          46874018000,
          35703062000
         ],
         "yaxis": "y"
        },
        {
         "hovertemplate": "Регион=Мангистауская Область<br>Год=%{x}<br>Значение=%{y}<extra></extra>",
         "legendgroup": "Мангистауская Область",
         "line": {
          "color": "#FECB52",
          "dash": "solid"
         },
         "marker": {
          "symbol": "circle"
         },
         "mode": "lines+markers",
         "name": "Мангистауская Область",
         "orientation": "v",
         "showlegend": true,
         "type": "scatter",
         "x": [
          2010,
          2011,
          2012,
          2013,
          2014,
          2015,
          2016
         ],
         "xaxis": "x",
         "y": [
          129921850000,
          99217067000,
          126072153000,
          132651072000,
          167304273000,
          137676202000,
          73574944000
         ],
         "yaxis": "y"
        },
        {
         "hovertemplate": "Регион=Павлодарская Область<br>Год=%{x}<br>Значение=%{y}<extra></extra>",
         "legendgroup": "Павлодарская Область",
         "line": {
          "color": "#636efa",
          "dash": "solid"
         },
         "marker": {
          "symbol": "circle"
         },
         "mode": "lines+markers",
         "name": "Павлодарская Область",
         "orientation": "v",
         "showlegend": true,
         "type": "scatter",
         "x": [
          2010,
          2011,
          2012,
          2013,
          2014,
          2015,
          2016
         ],
         "xaxis": "x",
         "y": [
          49075662000,
          69907301000,
          92347004000,
          97109103000,
          120433603000,
          189116808000,
          176483106000
         ],
         "yaxis": "y"
        },
        {
         "hovertemplate": "Регион=Северо-Казахстанская Область<br>Год=%{x}<br>Значение=%{y}<extra></extra>",
         "legendgroup": "Северо-Казахстанская Область",
         "line": {
          "color": "#EF553B",
          "dash": "solid"
         },
         "marker": {
          "symbol": "circle"
         },
         "mode": "lines+markers",
         "name": "Северо-Казахстанская Область",
         "orientation": "v",
         "showlegend": true,
         "type": "scatter",
         "x": [
          2010,
          2011,
          2012,
          2013,
          2014,
          2015,
          2016
         ],
         "xaxis": "x",
         "y": [
          905874000,
          2001738000,
          1478917000,
          1766075000,
          4933445000,
          6744431000,
          9405149000
         ],
         "yaxis": "y"
        },
        {
         "hovertemplate": "Регион=Восточно-Казахстанская Область<br>Год=%{x}<br>Значение=%{y}<extra></extra>",
         "legendgroup": "Восточно-Казахстанская Область",
         "line": {
          "color": "#00cc96",
          "dash": "solid"
         },
         "marker": {
          "symbol": "circle"
         },
         "mode": "lines+markers",
         "name": "Восточно-Казахстанская Область",
         "orientation": "v",
         "showlegend": true,
         "type": "scatter",
         "x": [
          2010,
          2011,
          2012,
          2013,
          2014,
          2015,
          2016
         ],
         "xaxis": "x",
         "y": [
          17953810000,
          30592785000,
          38769901000,
          57531674000,
          117128704000,
          203109219000,
          233781289000
         ],
         "yaxis": "y"
        },
        {
         "hovertemplate": "Регион=Г.Астана<br>Год=%{x}<br>Значение=%{y}<extra></extra>",
         "legendgroup": "Г.Астана",
         "line": {
          "color": "#ab63fa",
          "dash": "solid"
         },
         "marker": {
          "symbol": "circle"
         },
         "mode": "lines+markers",
         "name": "Г.Астана",
         "orientation": "v",
         "showlegend": true,
         "type": "scatter",
         "x": [
          2010,
          2011,
          2012,
          2013,
          2014,
          2015,
          2016
         ],
         "xaxis": "x",
         "y": [
          12589854000,
          19364358000,
          35635940000,
          14558989000,
          25548982000,
          52794269000,
          57831370000
         ],
         "yaxis": "y"
        },
        {
         "hovertemplate": "Регион=Г.Алматы<br>Год=%{x}<br>Значение=%{y}<extra></extra>",
         "legendgroup": "Г.Алматы",
         "line": {
          "color": "#FFA15A",
          "dash": "solid"
         },
         "marker": {
          "symbol": "circle"
         },
         "mode": "lines+markers",
         "name": "Г.Алматы",
         "orientation": "v",
         "showlegend": true,
         "type": "scatter",
         "x": [
          2010,
          2011,
          2012,
          2013,
          2014,
          2015,
          2016
         ],
         "xaxis": "x",
         "y": [
          65030944000,
          60673440000,
          81555370000,
          102784944000,
          72286449000,
          56338671000,
          77997262000
         ],
         "yaxis": "y"
        }
       ],
       "layout": {
        "legend": {
         "title": {
          "text": "Регион"
         },
         "tracegroupgap": 0
        },
        "template": {
         "data": {
          "bar": [
           {
            "error_x": {
             "color": "#2a3f5f"
            },
            "error_y": {
             "color": "#2a3f5f"
            },
            "marker": {
             "line": {
              "color": "#E5ECF6",
              "width": 0.5
             },
             "pattern": {
              "fillmode": "overlay",
              "size": 10,
              "solidity": 0.2
             }
            },
            "type": "bar"
           }
          ],
          "barpolar": [
           {
            "marker": {
             "line": {
              "color": "#E5ECF6",
              "width": 0.5
             },
             "pattern": {
              "fillmode": "overlay",
              "size": 10,
              "solidity": 0.2
             }
            },
            "type": "barpolar"
           }
          ],
          "carpet": [
           {
            "aaxis": {
             "endlinecolor": "#2a3f5f",
             "gridcolor": "white",
             "linecolor": "white",
             "minorgridcolor": "white",
             "startlinecolor": "#2a3f5f"
            },
            "baxis": {
             "endlinecolor": "#2a3f5f",
             "gridcolor": "white",
             "linecolor": "white",
             "minorgridcolor": "white",
             "startlinecolor": "#2a3f5f"
            },
            "type": "carpet"
           }
          ],
          "choropleth": [
           {
            "colorbar": {
             "outlinewidth": 0,
             "ticks": ""
            },
            "type": "choropleth"
           }
          ],
          "contour": [
           {
            "colorbar": {
             "outlinewidth": 0,
             "ticks": ""
            },
            "colorscale": [
             [
              0,
              "#0d0887"
             ],
             [
              0.1111111111111111,
              "#46039f"
             ],
             [
              0.2222222222222222,
              "#7201a8"
             ],
             [
              0.3333333333333333,
              "#9c179e"
             ],
             [
              0.4444444444444444,
              "#bd3786"
             ],
             [
              0.5555555555555556,
              "#d8576b"
             ],
             [
              0.6666666666666666,
              "#ed7953"
             ],
             [
              0.7777777777777778,
              "#fb9f3a"
             ],
             [
              0.8888888888888888,
              "#fdca26"
             ],
             [
              1,
              "#f0f921"
             ]
            ],
            "type": "contour"
           }
          ],
          "contourcarpet": [
           {
            "colorbar": {
             "outlinewidth": 0,
             "ticks": ""
            },
            "type": "contourcarpet"
           }
          ],
          "heatmap": [
           {
            "colorbar": {
             "outlinewidth": 0,
             "ticks": ""
            },
            "colorscale": [
             [
              0,
              "#0d0887"
             ],
             [
              0.1111111111111111,
              "#46039f"
             ],
             [
              0.2222222222222222,
              "#7201a8"
             ],
             [
              0.3333333333333333,
              "#9c179e"
             ],
             [
              0.4444444444444444,
              "#bd3786"
             ],
             [
              0.5555555555555556,
              "#d8576b"
             ],
             [
              0.6666666666666666,
              "#ed7953"
             ],
             [
              0.7777777777777778,
              "#fb9f3a"
             ],
             [
              0.8888888888888888,
              "#fdca26"
             ],
             [
              1,
              "#f0f921"
             ]
            ],
            "type": "heatmap"
           }
          ],
          "heatmapgl": [
           {
            "colorbar": {
             "outlinewidth": 0,
             "ticks": ""
            },
            "colorscale": [
             [
              0,
              "#0d0887"
             ],
             [
              0.1111111111111111,
              "#46039f"
             ],
             [
              0.2222222222222222,
              "#7201a8"
             ],
             [
              0.3333333333333333,
              "#9c179e"
             ],
             [
              0.4444444444444444,
              "#bd3786"
             ],
             [
              0.5555555555555556,
              "#d8576b"
             ],
             [
              0.6666666666666666,
              "#ed7953"
             ],
             [
              0.7777777777777778,
              "#fb9f3a"
             ],
             [
              0.8888888888888888,
              "#fdca26"
             ],
             [
              1,
              "#f0f921"
             ]
            ],
            "type": "heatmapgl"
           }
          ],
          "histogram": [
           {
            "marker": {
             "pattern": {
              "fillmode": "overlay",
              "size": 10,
              "solidity": 0.2
             }
            },
            "type": "histogram"
           }
          ],
          "histogram2d": [
           {
            "colorbar": {
             "outlinewidth": 0,
             "ticks": ""
            },
            "colorscale": [
             [
              0,
              "#0d0887"
             ],
             [
              0.1111111111111111,
              "#46039f"
             ],
             [
              0.2222222222222222,
              "#7201a8"
             ],
             [
              0.3333333333333333,
              "#9c179e"
             ],
             [
              0.4444444444444444,
              "#bd3786"
             ],
             [
              0.5555555555555556,
              "#d8576b"
             ],
             [
              0.6666666666666666,
              "#ed7953"
             ],
             [
              0.7777777777777778,
              "#fb9f3a"
             ],
             [
              0.8888888888888888,
              "#fdca26"
             ],
             [
              1,
              "#f0f921"
             ]
            ],
            "type": "histogram2d"
           }
          ],
          "histogram2dcontour": [
           {
            "colorbar": {
             "outlinewidth": 0,
             "ticks": ""
            },
            "colorscale": [
             [
              0,
              "#0d0887"
             ],
             [
              0.1111111111111111,
              "#46039f"
             ],
             [
              0.2222222222222222,
              "#7201a8"
             ],
             [
              0.3333333333333333,
              "#9c179e"
             ],
             [
              0.4444444444444444,
              "#bd3786"
             ],
             [
              0.5555555555555556,
              "#d8576b"
             ],
             [
              0.6666666666666666,
              "#ed7953"
             ],
             [
              0.7777777777777778,
              "#fb9f3a"
             ],
             [
              0.8888888888888888,
              "#fdca26"
             ],
             [
              1,
              "#f0f921"
             ]
            ],
            "type": "histogram2dcontour"
           }
          ],
          "mesh3d": [
           {
            "colorbar": {
             "outlinewidth": 0,
             "ticks": ""
            },
            "type": "mesh3d"
           }
          ],
          "parcoords": [
           {
            "line": {
             "colorbar": {
              "outlinewidth": 0,
              "ticks": ""
             }
            },
            "type": "parcoords"
           }
          ],
          "pie": [
           {
            "automargin": true,
            "type": "pie"
           }
          ],
          "scatter": [
           {
            "fillpattern": {
             "fillmode": "overlay",
             "size": 10,
             "solidity": 0.2
            },
            "type": "scatter"
           }
          ],
          "scatter3d": [
           {
            "line": {
             "colorbar": {
              "outlinewidth": 0,
              "ticks": ""
             }
            },
            "marker": {
             "colorbar": {
              "outlinewidth": 0,
              "ticks": ""
             }
            },
            "type": "scatter3d"
           }
          ],
          "scattercarpet": [
           {
            "marker": {
             "colorbar": {
              "outlinewidth": 0,
              "ticks": ""
             }
            },
            "type": "scattercarpet"
           }
          ],
          "scattergeo": [
           {
            "marker": {
             "colorbar": {
              "outlinewidth": 0,
              "ticks": ""
             }
            },
            "type": "scattergeo"
           }
          ],
          "scattergl": [
           {
            "marker": {
             "colorbar": {
              "outlinewidth": 0,
              "ticks": ""
             }
            },
            "type": "scattergl"
           }
          ],
          "scattermapbox": [
           {
            "marker": {
             "colorbar": {
              "outlinewidth": 0,
              "ticks": ""
             }
            },
            "type": "scattermapbox"
           }
          ],
          "scatterpolar": [
           {
            "marker": {
             "colorbar": {
              "outlinewidth": 0,
              "ticks": ""
             }
            },
            "type": "scatterpolar"
           }
          ],
          "scatterpolargl": [
           {
            "marker": {
             "colorbar": {
              "outlinewidth": 0,
              "ticks": ""
             }
            },
            "type": "scatterpolargl"
           }
          ],
          "scatterternary": [
           {
            "marker": {
             "colorbar": {
              "outlinewidth": 0,
              "ticks": ""
             }
            },
            "type": "scatterternary"
           }
          ],
          "surface": [
           {
            "colorbar": {
             "outlinewidth": 0,
             "ticks": ""
            },
            "colorscale": [
             [
              0,
              "#0d0887"
             ],
             [
              0.1111111111111111,
              "#46039f"
             ],
             [
              0.2222222222222222,
              "#7201a8"
             ],
             [
              0.3333333333333333,
              "#9c179e"
             ],
             [
              0.4444444444444444,
              "#bd3786"
             ],
             [
              0.5555555555555556,
              "#d8576b"
             ],
             [
              0.6666666666666666,
              "#ed7953"
             ],
             [
              0.7777777777777778,
              "#fb9f3a"
             ],
             [
              0.8888888888888888,
              "#fdca26"
             ],
             [
              1,
              "#f0f921"
             ]
            ],
            "type": "surface"
           }
          ],
          "table": [
           {
            "cells": {
             "fill": {
              "color": "#EBF0F8"
             },
             "line": {
              "color": "white"
             }
            },
            "header": {
             "fill": {
              "color": "#C8D4E3"
             },
             "line": {
              "color": "white"
             }
            },
            "type": "table"
           }
          ]
         },
         "layout": {
          "annotationdefaults": {
           "arrowcolor": "#2a3f5f",
           "arrowhead": 0,
           "arrowwidth": 1
          },
          "autotypenumbers": "strict",
          "coloraxis": {
           "colorbar": {
            "outlinewidth": 0,
            "ticks": ""
           }
          },
          "colorscale": {
           "diverging": [
            [
             0,
             "#8e0152"
            ],
            [
             0.1,
             "#c51b7d"
            ],
            [
             0.2,
             "#de77ae"
            ],
            [
             0.3,
             "#f1b6da"
            ],
            [
             0.4,
             "#fde0ef"
            ],
            [
             0.5,
             "#f7f7f7"
            ],
            [
             0.6,
             "#e6f5d0"
            ],
            [
             0.7,
             "#b8e186"
            ],
            [
             0.8,
             "#7fbc41"
            ],
            [
             0.9,
             "#4d9221"
            ],
            [
             1,
             "#276419"
            ]
           ],
           "sequential": [
            [
             0,
             "#0d0887"
            ],
            [
             0.1111111111111111,
             "#46039f"
            ],
            [
             0.2222222222222222,
             "#7201a8"
            ],
            [
             0.3333333333333333,
             "#9c179e"
            ],
            [
             0.4444444444444444,
             "#bd3786"
            ],
            [
             0.5555555555555556,
             "#d8576b"
            ],
            [
             0.6666666666666666,
             "#ed7953"
            ],
            [
             0.7777777777777778,
             "#fb9f3a"
            ],
            [
             0.8888888888888888,
             "#fdca26"
            ],
            [
             1,
             "#f0f921"
            ]
           ],
           "sequentialminus": [
            [
             0,
             "#0d0887"
            ],
            [
             0.1111111111111111,
             "#46039f"
            ],
            [
             0.2222222222222222,
             "#7201a8"
            ],
            [
             0.3333333333333333,
             "#9c179e"
            ],
            [
             0.4444444444444444,
             "#bd3786"
            ],
            [
             0.5555555555555556,
             "#d8576b"
            ],
            [
             0.6666666666666666,
             "#ed7953"
            ],
            [
             0.7777777777777778,
             "#fb9f3a"
            ],
            [
             0.8888888888888888,
             "#fdca26"
            ],
            [
             1,
             "#f0f921"
            ]
           ]
          },
          "colorway": [
           "#636efa",
           "#EF553B",
           "#00cc96",
           "#ab63fa",
           "#FFA15A",
           "#19d3f3",
           "#FF6692",
           "#B6E880",
           "#FF97FF",
           "#FECB52"
          ],
          "font": {
           "color": "#2a3f5f"
          },
          "geo": {
           "bgcolor": "white",
           "lakecolor": "white",
           "landcolor": "#E5ECF6",
           "showlakes": true,
           "showland": true,
           "subunitcolor": "white"
          },
          "hoverlabel": {
           "align": "left"
          },
          "hovermode": "closest",
          "mapbox": {
           "style": "light"
          },
          "paper_bgcolor": "white",
          "plot_bgcolor": "#E5ECF6",
          "polar": {
           "angularaxis": {
            "gridcolor": "white",
            "linecolor": "white",
            "ticks": ""
           },
           "bgcolor": "#E5ECF6",
           "radialaxis": {
            "gridcolor": "white",
            "linecolor": "white",
            "ticks": ""
           }
          },
          "scene": {
           "xaxis": {
            "backgroundcolor": "#E5ECF6",
            "gridcolor": "white",
            "gridwidth": 2,
            "linecolor": "white",
            "showbackground": true,
            "ticks": "",
            "zerolinecolor": "white"
           },
           "yaxis": {
            "backgroundcolor": "#E5ECF6",
            "gridcolor": "white",
            "gridwidth": 2,
            "linecolor": "white",
            "showbackground": true,
            "ticks": "",
            "zerolinecolor": "white"
           },
           "zaxis": {
            "backgroundcolor": "#E5ECF6",
            "gridcolor": "white",
            "gridwidth": 2,
            "linecolor": "white",
            "showbackground": true,
            "ticks": "",
            "zerolinecolor": "white"
           }
          },
          "shapedefaults": {
           "line": {
            "color": "#2a3f5f"
           }
          },
          "ternary": {
           "aaxis": {
            "gridcolor": "white",
            "linecolor": "white",
            "ticks": ""
           },
           "baxis": {
            "gridcolor": "white",
            "linecolor": "white",
            "ticks": ""
           },
           "bgcolor": "#E5ECF6",
           "caxis": {
            "gridcolor": "white",
            "linecolor": "white",
            "ticks": ""
           }
          },
          "title": {
           "x": 0.05
          },
          "xaxis": {
           "automargin": true,
           "gridcolor": "white",
           "linecolor": "white",
           "ticks": "",
           "title": {
            "standoff": 15
           },
           "zerolinecolor": "white",
           "zerolinewidth": 2
          },
          "yaxis": {
           "automargin": true,
           "gridcolor": "white",
           "linecolor": "white",
           "ticks": "",
           "title": {
            "standoff": 15
           },
           "zerolinecolor": "white",
           "zerolinewidth": 2
          }
         }
        },
        "title": {
         "text": "Внешние инвестиции в тенге"
        },
        "xaxis": {
         "anchor": "y",
         "domain": [
          0,
          1
         ],
         "title": {
          "text": "Год"
         }
        },
        "yaxis": {
         "anchor": "x",
         "domain": [
          0,
          1
         ],
         "title": {
          "text": "Значение"
         }
        }
       }
      }
     },
     "metadata": {},
     "output_type": "display_data"
    }
   ],
   "source": [
    "import pandas as pd\n",
    "import plotly.express as px\n",
    "\n",
    "# Список интересующих регионов\n",
    "regions_of_interest = [\n",
    "    \"Акмолинская Область\", \"Актюбинская Область\", \"Алматинская Область\", \"Атырауская Область\",\n",
    "    \"Восточно-Казахстанская Область\", \"Жамбылская Область\", \"Западно-Казахстанская Область\",\n",
    "    \"Карагандинская Область\", \"Костанайская Область\", \"Кызылординская Область\", \"Мангистауская Область\",\n",
    "    \"Павлодарская Область\", \"Северо-Казахстанская Область\", \"Туркестанская Область\",\n",
    "    \"Г.Астана\", \"Г.Алматы\", \"Г.Шымкент\"\n",
    "]\n",
    "\n",
    "# Выбираем данные для всех интересующих регионов\n",
    "region_data = df[df['Регион'].isin(regions_of_interest)]\n",
    "\n",
    "# Переходим от широкой таблицы к длинной\n",
    "region_data = region_data.melt(id_vars=['Регион'], var_name='Год', value_name='Значение')\n",
    "\n",
    "# Преобразуем год в числовой формат\n",
    "region_data['Год'] = region_data['Год'].str.extract('(\\d{4})').astype(int)\n",
    "\n",
    "# Строим график с использованием plotly.express\n",
    "fig = px.line(region_data, x='Год', y='Значение', color='Регион', title='Внешние инвестиции в тенге', markers=True)\n",
    "\n",
    "# Показываем график\n",
    "fig.show()\n"
   ]
  }
 ],
 "metadata": {
  "kernelspec": {
   "display_name": "venv",
   "language": "python",
   "name": "python3"
  },
  "language_info": {
   "codemirror_mode": {
    "name": "ipython",
    "version": 3
   },
   "file_extension": ".py",
   "mimetype": "text/x-python",
   "name": "python",
   "nbconvert_exporter": "python",
   "pygments_lexer": "ipython3",
   "version": "3.11.9"
  }
 },
 "nbformat": 4,
 "nbformat_minor": 2
}
